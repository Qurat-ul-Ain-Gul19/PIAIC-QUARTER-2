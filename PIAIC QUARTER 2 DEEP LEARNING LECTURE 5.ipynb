{
 "cells": [
  {
   "cell_type": "code",
   "execution_count": null,
   "metadata": {},
   "outputs": [],
   "source": [
    "chapter 2"
   ]
  },
  {
   "cell_type": "markdown",
   "metadata": {},
   "source": [
    "# MNIST DATA SET"
   ]
  },
  {
   "cell_type": "raw",
   "metadata": {},
   "source": [
    "70K SAMPLES(INPUT, LABELS)\n",
    "70K rows:\n",
    "hvs grey scale color mode : basically an average\n",
    "    of three rgb slides\n",
    "    addition of all and division by 3\n",
    "    \n",
    "hue saturation\n",
    "\n",
    "70 TO 30 RATIO\n",
    "70 training , 30%testing"
   ]
  },
  {
   "cell_type": "raw",
   "metadata": {},
   "source": [
    "edges ,pixels differentiates from other objects\n",
    "so only shape , edges r identified\n",
    "\n",
    "imp one still on rgb but consumes lots of memory and computational power"
   ]
  },
  {
   "cell_type": "raw",
   "metadata": {},
   "source": [
    "small size picture to lower pixels ,for ease in processing"
   ]
  },
  {
   "cell_type": "raw",
   "metadata": {},
   "source": [
    "size does'nt inc/dec the amount of \n",
    "information a machine learns from picture"
   ]
  },
  {
   "cell_type": "raw",
   "metadata": {},
   "source": [
    "how to know no of classes/ \n",
    "\n",
    "y: labels\n",
    "unique (of test and train label): no of classes"
   ]
  },
  {
   "cell_type": "raw",
   "metadata": {},
   "source": [
    "data point: samples,input,X"
   ]
  },
  {
   "cell_type": "raw",
   "metadata": {},
   "source": [
    "to check resolution of any data\n",
    "train_images.shape\n",
    "\n",
    "or \n",
    "\n",
    "resoltuion: 28,28 pixels"
   ]
  },
  {
   "cell_type": "code",
   "execution_count": null,
   "metadata": {},
   "outputs": [],
   "source": [
    "For displaying any pic"
   ]
  },
  {
   "cell_type": "code",
   "execution_count": null,
   "metadata": {},
   "outputs": [],
   "source": [
    "import matplotlib.pyplot as plt \n",
    "\n",
    "\n",
    "for first pic\n",
    "digit = train_images[0]\n",
    "print(\"class label\",trian_label(6000=1))\n",
    "digit\n",
    "digit.shape"
   ]
  },
  {
   "cell_type": "code",
   "execution_count": null,
   "metadata": {},
   "outputs": [],
   "source": [
    "plt.imshow(digit,cmap=plt.cm.binary) cmap: colormode\n",
    "plt.show()"
   ]
  },
  {
   "cell_type": "code",
   "execution_count": null,
   "metadata": {},
   "outputs": [],
   "source": [
    "for last \n",
    "for first pic\n",
    "digit = tain_images[60000 - 1]\n",
    "print(\"class label\",trian_label(6000=1))\n",
    "digit\n",
    "digit.shape\n",
    "plt.imshow(digit,cmap=plt.cm.binary) cmap:colormode\n",
    "plt.show()"
   ]
  },
  {
   "cell_type": "code",
   "execution_count": null,
   "metadata": {},
   "outputs": [],
   "source": [
    "if rgb three chanels like 28,28,28\n",
    "but in greyscale 28,28"
   ]
  },
  {
   "cell_type": "code",
   "execution_count": null,
   "metadata": {},
   "outputs": [],
   "source": [
    "print(np.unique(train_labels))"
   ]
  },
  {
   "cell_type": "code",
   "execution_count": null,
   "metadata": {},
   "outputs": [],
   "source": [
    "len(train_labels)"
   ]
  },
  {
   "cell_type": "markdown",
   "metadata": {},
   "source": [
    "# TEST DATA"
   ]
  },
  {
   "cell_type": "code",
   "execution_count": null,
   "metadata": {},
   "outputs": [],
   "source": [
    "len(test_data)"
   ]
  },
  {
   "cell_type": "markdown",
   "metadata": {},
   "source": [
    "# NEURAL NETWORK"
   ]
  },
  {
   "cell_type": "code",
   "execution_count": null,
   "metadata": {},
   "outputs": [],
   "source": [
    "DATA\n",
    "ARCHITECTURE\n",
    "TESTING\n",
    "EAVLUATION\n",
    "PREDICION"
   ]
  },
  {
   "cell_type": "markdown",
   "metadata": {},
   "source": [
    "# MODEL ARCHITECTURE"
   ]
  },
  {
   "cell_type": "code",
   "execution_count": null,
   "metadata": {},
   "outputs": [],
   "source": [
    "model can be either sequential  or functional api"
   ]
  },
  {
   "cell_type": "code",
   "execution_count": null,
   "metadata": {},
   "outputs": [],
   "source": [
    "from tensorflow.keras import models\n",
    "from tensorflow.keras import layers\n",
    "\n",
    "network = models.Sequential()\n",
    "network.add(layers.Dense(512,activation = 'relu',input_shape=(28*28,)))\n",
    "network.add(layers.Dense(10,activation='softmax'))"
   ]
  },
  {
   "cell_type": "code",
   "execution_count": null,
   "metadata": {},
   "outputs": [],
   "source": [
    "#densly connected layer is used\n",
    "(28*28,) 2d\n",
    "when comlied\n",
    "(728,) 1d"
   ]
  },
  {
   "cell_type": "code",
   "execution_count": null,
   "metadata": {},
   "outputs": [],
   "source": [
    "no of opening brackets ,  no of dimensions"
   ]
  },
  {
   "cell_type": "code",
   "execution_count": null,
   "metadata": {},
   "outputs": [],
   "source": [
    "digit.shape(28*28).shape\n"
   ]
  },
  {
   "cell_type": "code",
   "execution_count": null,
   "metadata": {},
   "outputs": [],
   "source": [
    "for ANN every pixel is a no\n",
    "shape of pic doesnt matters\n",
    "in CNN it does matters"
   ]
  },
  {
   "cell_type": "code",
   "execution_count": null,
   "metadata": {},
   "outputs": [],
   "source": [
    "value> 0 then passes\n",
    "if < 0 then returns 0"
   ]
  },
  {
   "cell_type": "raw",
   "metadata": {},
   "source": [
    "progressive layers result in filtertaion"
   ]
  },
  {
   "cell_type": "code",
   "execution_count": null,
   "metadata": {},
   "outputs": [],
   "source": [
    "bcz of multiclasses SOFTMAX ACTIVATION FUNCTION IS USED\n",
    "ALL probablites once added total equalls to 1"
   ]
  },
  {
   "cell_type": "raw",
   "metadata": {},
   "source": [
    "Metrics:\n",
    "to monitor during training and testing\n",
    "Accuracy:\n",
    "    the fraction of images that were correctly classified"
   ]
  },
  {
   "cell_type": "code",
   "execution_count": null,
   "metadata": {},
   "outputs": [],
   "source": [
    "objective function:\n",
    "    loss function"
   ]
  },
  {
   "cell_type": "markdown",
   "metadata": {},
   "source": [
    "# Compilation step"
   ]
  },
  {
   "cell_type": "raw",
   "metadata": {},
   "source": [
    "network.compile(optimizer='rmsprop',\n",
    "loss='categorical_crossentropy',\n",
    "        metrics=['accurcay'])\n",
    "\n",
    "\n",
    "rmsporp=sgdc"
   ]
  },
  {
   "cell_type": "code",
   "execution_count": null,
   "metadata": {},
   "outputs": [],
   "source": [
    "?netwrok.compile"
   ]
  },
  {
   "cell_type": "code",
   "execution_count": null,
   "metadata": {},
   "outputs": [],
   "source": [
    "last layer activation function and loss function r very imp\n",
    "and are according to problem"
   ]
  },
  {
   "cell_type": "markdown",
   "metadata": {},
   "source": [
    "# Data Normalization"
   ]
  },
  {
   "cell_type": "code",
   "execution_count": null,
   "metadata": {},
   "outputs": [],
   "source": [
    "train_images.ndim"
   ]
  },
  {
   "cell_type": "code",
   "execution_count": null,
   "metadata": {},
   "outputs": [],
   "source": [
    "all pics in two dimension (6000,28*28)\n",
    "on pic in 1 dimension (28*28)"
   ]
  },
  {
   "cell_type": "code",
   "execution_count": null,
   "metadata": {},
   "outputs": [],
   "source": [
    "256 bits to note color of any bits"
   ]
  },
  {
   "cell_type": "code",
   "execution_count": null,
   "metadata": {},
   "outputs": [],
   "source": [
    "155/255\n",
    "any no divided by 255 comes between 0 to 1\n",
    "so data gets normalized"
   ]
  },
  {
   "cell_type": "markdown",
   "metadata": {},
   "source": [
    "# PREPARING LABELS, ONE HOT ENCODE"
   ]
  },
  {
   "cell_type": "code",
   "execution_count": null,
   "metadata": {},
   "outputs": [],
   "source": [
    "to catergorical\n",
    "\n",
    "train_lables[0]\n",
    "5\n",
    "\n",
    "array[0,0,0,0,0,1,0,0,0,0,0]\n",
    "all classes in which the no is matched \"1\" all other \"0\""
   ]
  },
  {
   "cell_type": "markdown",
   "metadata": {},
   "source": [
    "# NETWOK TRAINING "
   ]
  },
  {
   "cell_type": "code",
   "execution_count": null,
   "metadata": {},
   "outputs": [],
   "source": [
    "netwrok.train(train_images,train_labels,epochs=5,batch_size=128)\n",
    "means 128 rows will go into neural netwrok at a time\n",
    "each row will go into the network 5times"
   ]
  },
  {
   "cell_type": "code",
   "execution_count": null,
   "metadata": {},
   "outputs": [],
   "source": [
    "ndim array : tensor(google)\n",
    "data goes in neural network in the form of one dimension array\n",
    "dimension:Axis,rank\n",
    "no of opening brackets : no of dimensions"
   ]
  },
  {
   "cell_type": "markdown",
   "metadata": {},
   "source": [
    "# SCALER DataType"
   ]
  },
  {
   "cell_type": "code",
   "execution_count": null,
   "metadata": {},
   "outputs": [],
   "source": [
    "dimesnion of any scaler or any single no is \"0\"\n",
    "\n",
    "\"0D\" tesnor or 0 rank tensor"
   ]
  },
  {
   "cell_type": "code",
   "execution_count": null,
   "metadata": {},
   "outputs": [],
   "source": [
    "a float64, float32 sclaer no has 0dim"
   ]
  },
  {
   "cell_type": "markdown",
   "metadata": {},
   "source": [
    "# 1D"
   ]
  },
  {
   "cell_type": "code",
   "execution_count": null,
   "metadata": {},
   "outputs": [],
   "source": [
    "a = np.array([1,2,3,4])\n",
    "a.ndim : 1\n",
    "a.shape  (4,)\n",
    "4 dim VECTOR \n",
    "1 Rank vector, 1D tensor , 1 Axes tensor"
   ]
  },
  {
   "cell_type": "code",
   "execution_count": null,
   "metadata": {},
   "outputs": [],
   "source": [
    "5D vector and 5d tensor are different"
   ]
  },
  {
   "cell_type": "code",
   "execution_count": null,
   "metadata": {},
   "outputs": [],
   "source": [
    "Dimensionality may use as no of entires along a specific axis \n",
    "or no fo axes in a tensor such as 5d tensor"
   ]
  },
  {
   "cell_type": "markdown",
   "metadata": {},
   "source": [
    "# MATRIX"
   ]
  },
  {
   "cell_type": "code",
   "execution_count": null,
   "metadata": {},
   "outputs": [],
   "source": [
    "2d array\n",
    "dimension: count no of opening brackets\n",
    "shape : rows , columns"
   ]
  },
  {
   "cell_type": "code",
   "execution_count": null,
   "metadata": {},
   "outputs": [],
   "source": [
    "a = np.arange(1,46).reshape(3,3,5) #3 slides , 3 rows 3 columns\n",
    "a.ndim\n",
    "a.shape"
   ]
  },
  {
   "cell_type": "markdown",
   "metadata": {},
   "source": [
    "# 5D"
   ]
  },
  {
   "cell_type": "code",
   "execution_count": null,
   "metadata": {},
   "outputs": [],
   "source": [
    "np.ones([2,2,2,2,2])"
   ]
  }
 ],
 "metadata": {
  "kernelspec": {
   "display_name": "Python 3",
   "language": "python",
   "name": "python3"
  },
  "language_info": {
   "codemirror_mode": {
    "name": "ipython",
    "version": 3
   },
   "file_extension": ".py",
   "mimetype": "text/x-python",
   "name": "python",
   "nbconvert_exporter": "python",
   "pygments_lexer": "ipython3",
   "version": "3.7.3"
  }
 },
 "nbformat": 4,
 "nbformat_minor": 4
}
