{
  "nbformat": 4,
  "nbformat_minor": 0,
  "metadata": {
    "colab": {
      "name": "Grading System Model.ipynb",
      "provenance": []
    },
    "kernelspec": {
      "name": "python3",
      "display_name": "Python 3"
    }
  },
  "cells": [
    {
      "cell_type": "code",
      "metadata": {
        "id": "Hd8fQ61ESjiN",
        "colab_type": "code",
        "colab": {}
      },
      "source": [
        "import numpy as np\n",
        "import pandas as pd"
      ],
      "execution_count": 1,
      "outputs": []
    },
    {
      "cell_type": "code",
      "metadata": {
        "id": "PZBHvt3HSzDq",
        "colab_type": "code",
        "colab": {}
      },
      "source": [
        "df = pd.DataFrame(np.random.randint(10,100,size=(20000,5)),\n",
        "  columns=['s1','s2','s3','s4','s5'])"
      ],
      "execution_count": 3,
      "outputs": []
    },
    {
      "cell_type": "code",
      "metadata": {
        "id": "wa2B884UV7ez",
        "colab_type": "code",
        "colab": {
          "base_uri": "https://localhost:8080/",
          "height": 195
        },
        "outputId": "5eacb0e4-303e-4cf9-9319-1d86a2b64b12"
      },
      "source": [
        "df.head()"
      ],
      "execution_count": 4,
      "outputs": [
        {
          "output_type": "execute_result",
          "data": {
            "text/html": [
              "<div>\n",
              "<style scoped>\n",
              "    .dataframe tbody tr th:only-of-type {\n",
              "        vertical-align: middle;\n",
              "    }\n",
              "\n",
              "    .dataframe tbody tr th {\n",
              "        vertical-align: top;\n",
              "    }\n",
              "\n",
              "    .dataframe thead th {\n",
              "        text-align: right;\n",
              "    }\n",
              "</style>\n",
              "<table border=\"1\" class=\"dataframe\">\n",
              "  <thead>\n",
              "    <tr style=\"text-align: right;\">\n",
              "      <th></th>\n",
              "      <th>s1</th>\n",
              "      <th>s2</th>\n",
              "      <th>s3</th>\n",
              "      <th>s4</th>\n",
              "      <th>s5</th>\n",
              "    </tr>\n",
              "  </thead>\n",
              "  <tbody>\n",
              "    <tr>\n",
              "      <th>0</th>\n",
              "      <td>69</td>\n",
              "      <td>49</td>\n",
              "      <td>89</td>\n",
              "      <td>55</td>\n",
              "      <td>92</td>\n",
              "    </tr>\n",
              "    <tr>\n",
              "      <th>1</th>\n",
              "      <td>21</td>\n",
              "      <td>55</td>\n",
              "      <td>61</td>\n",
              "      <td>72</td>\n",
              "      <td>50</td>\n",
              "    </tr>\n",
              "    <tr>\n",
              "      <th>2</th>\n",
              "      <td>39</td>\n",
              "      <td>85</td>\n",
              "      <td>35</td>\n",
              "      <td>86</td>\n",
              "      <td>61</td>\n",
              "    </tr>\n",
              "    <tr>\n",
              "      <th>3</th>\n",
              "      <td>98</td>\n",
              "      <td>51</td>\n",
              "      <td>18</td>\n",
              "      <td>48</td>\n",
              "      <td>56</td>\n",
              "    </tr>\n",
              "    <tr>\n",
              "      <th>4</th>\n",
              "      <td>76</td>\n",
              "      <td>14</td>\n",
              "      <td>36</td>\n",
              "      <td>78</td>\n",
              "      <td>33</td>\n",
              "    </tr>\n",
              "  </tbody>\n",
              "</table>\n",
              "</div>"
            ],
            "text/plain": [
              "   s1  s2  s3  s4  s5\n",
              "0  69  49  89  55  92\n",
              "1  21  55  61  72  50\n",
              "2  39  85  35  86  61\n",
              "3  98  51  18  48  56\n",
              "4  76  14  36  78  33"
            ]
          },
          "metadata": {
            "tags": []
          },
          "execution_count": 4
        }
      ]
    },
    {
      "cell_type": "code",
      "metadata": {
        "id": "wKkTNHx-V8ju",
        "colab_type": "code",
        "colab": {}
      },
      "source": [
        "df['obtained'] = df.loc[:,'s1':'s5'].apply(sum,axis=1)"
      ],
      "execution_count": 9,
      "outputs": []
    },
    {
      "cell_type": "code",
      "metadata": {
        "id": "YTGNYw4nWpsP",
        "colab_type": "code",
        "colab": {
          "base_uri": "https://localhost:8080/",
          "height": 195
        },
        "outputId": "40187123-201b-428d-bd6b-35e77fa29952"
      },
      "source": [
        "df.head()"
      ],
      "execution_count": 10,
      "outputs": [
        {
          "output_type": "execute_result",
          "data": {
            "text/html": [
              "<div>\n",
              "<style scoped>\n",
              "    .dataframe tbody tr th:only-of-type {\n",
              "        vertical-align: middle;\n",
              "    }\n",
              "\n",
              "    .dataframe tbody tr th {\n",
              "        vertical-align: top;\n",
              "    }\n",
              "\n",
              "    .dataframe thead th {\n",
              "        text-align: right;\n",
              "    }\n",
              "</style>\n",
              "<table border=\"1\" class=\"dataframe\">\n",
              "  <thead>\n",
              "    <tr style=\"text-align: right;\">\n",
              "      <th></th>\n",
              "      <th>s1</th>\n",
              "      <th>s2</th>\n",
              "      <th>s3</th>\n",
              "      <th>s4</th>\n",
              "      <th>s5</th>\n",
              "      <th>obtained</th>\n",
              "    </tr>\n",
              "  </thead>\n",
              "  <tbody>\n",
              "    <tr>\n",
              "      <th>0</th>\n",
              "      <td>69</td>\n",
              "      <td>49</td>\n",
              "      <td>89</td>\n",
              "      <td>55</td>\n",
              "      <td>92</td>\n",
              "      <td>354</td>\n",
              "    </tr>\n",
              "    <tr>\n",
              "      <th>1</th>\n",
              "      <td>21</td>\n",
              "      <td>55</td>\n",
              "      <td>61</td>\n",
              "      <td>72</td>\n",
              "      <td>50</td>\n",
              "      <td>259</td>\n",
              "    </tr>\n",
              "    <tr>\n",
              "      <th>2</th>\n",
              "      <td>39</td>\n",
              "      <td>85</td>\n",
              "      <td>35</td>\n",
              "      <td>86</td>\n",
              "      <td>61</td>\n",
              "      <td>306</td>\n",
              "    </tr>\n",
              "    <tr>\n",
              "      <th>3</th>\n",
              "      <td>98</td>\n",
              "      <td>51</td>\n",
              "      <td>18</td>\n",
              "      <td>48</td>\n",
              "      <td>56</td>\n",
              "      <td>271</td>\n",
              "    </tr>\n",
              "    <tr>\n",
              "      <th>4</th>\n",
              "      <td>76</td>\n",
              "      <td>14</td>\n",
              "      <td>36</td>\n",
              "      <td>78</td>\n",
              "      <td>33</td>\n",
              "      <td>237</td>\n",
              "    </tr>\n",
              "  </tbody>\n",
              "</table>\n",
              "</div>"
            ],
            "text/plain": [
              "   s1  s2  s3  s4  s5  obtained\n",
              "0  69  49  89  55  92       354\n",
              "1  21  55  61  72  50       259\n",
              "2  39  85  35  86  61       306\n",
              "3  98  51  18  48  56       271\n",
              "4  76  14  36  78  33       237"
            ]
          },
          "metadata": {
            "tags": []
          },
          "execution_count": 10
        }
      ]
    },
    {
      "cell_type": "code",
      "metadata": {
        "id": "lh_WQJBIWrtq",
        "colab_type": "code",
        "colab": {}
      },
      "source": [
        "df['obtained'] = df.s1+df.s2+df.s3+df.s4+df.s5"
      ],
      "execution_count": 11,
      "outputs": []
    },
    {
      "cell_type": "code",
      "metadata": {
        "id": "95QLfm5zW0cK",
        "colab_type": "code",
        "colab": {
          "base_uri": "https://localhost:8080/",
          "height": 195
        },
        "outputId": "f68c8067-352a-4fc3-f05c-bbd6ac9530ed"
      },
      "source": [
        "df.head()"
      ],
      "execution_count": 12,
      "outputs": [
        {
          "output_type": "execute_result",
          "data": {
            "text/html": [
              "<div>\n",
              "<style scoped>\n",
              "    .dataframe tbody tr th:only-of-type {\n",
              "        vertical-align: middle;\n",
              "    }\n",
              "\n",
              "    .dataframe tbody tr th {\n",
              "        vertical-align: top;\n",
              "    }\n",
              "\n",
              "    .dataframe thead th {\n",
              "        text-align: right;\n",
              "    }\n",
              "</style>\n",
              "<table border=\"1\" class=\"dataframe\">\n",
              "  <thead>\n",
              "    <tr style=\"text-align: right;\">\n",
              "      <th></th>\n",
              "      <th>s1</th>\n",
              "      <th>s2</th>\n",
              "      <th>s3</th>\n",
              "      <th>s4</th>\n",
              "      <th>s5</th>\n",
              "      <th>obtained</th>\n",
              "    </tr>\n",
              "  </thead>\n",
              "  <tbody>\n",
              "    <tr>\n",
              "      <th>0</th>\n",
              "      <td>69</td>\n",
              "      <td>49</td>\n",
              "      <td>89</td>\n",
              "      <td>55</td>\n",
              "      <td>92</td>\n",
              "      <td>354</td>\n",
              "    </tr>\n",
              "    <tr>\n",
              "      <th>1</th>\n",
              "      <td>21</td>\n",
              "      <td>55</td>\n",
              "      <td>61</td>\n",
              "      <td>72</td>\n",
              "      <td>50</td>\n",
              "      <td>259</td>\n",
              "    </tr>\n",
              "    <tr>\n",
              "      <th>2</th>\n",
              "      <td>39</td>\n",
              "      <td>85</td>\n",
              "      <td>35</td>\n",
              "      <td>86</td>\n",
              "      <td>61</td>\n",
              "      <td>306</td>\n",
              "    </tr>\n",
              "    <tr>\n",
              "      <th>3</th>\n",
              "      <td>98</td>\n",
              "      <td>51</td>\n",
              "      <td>18</td>\n",
              "      <td>48</td>\n",
              "      <td>56</td>\n",
              "      <td>271</td>\n",
              "    </tr>\n",
              "    <tr>\n",
              "      <th>4</th>\n",
              "      <td>76</td>\n",
              "      <td>14</td>\n",
              "      <td>36</td>\n",
              "      <td>78</td>\n",
              "      <td>33</td>\n",
              "      <td>237</td>\n",
              "    </tr>\n",
              "  </tbody>\n",
              "</table>\n",
              "</div>"
            ],
            "text/plain": [
              "   s1  s2  s3  s4  s5  obtained\n",
              "0  69  49  89  55  92       354\n",
              "1  21  55  61  72  50       259\n",
              "2  39  85  35  86  61       306\n",
              "3  98  51  18  48  56       271\n",
              "4  76  14  36  78  33       237"
            ]
          },
          "metadata": {
            "tags": []
          },
          "execution_count": 12
        }
      ]
    },
    {
      "cell_type": "code",
      "metadata": {
        "id": "2cdNOYMPW24F",
        "colab_type": "code",
        "colab": {}
      },
      "source": [
        "df['obtained']  =  df.loc[:,'s1':'s5'].apply(lambda x:np.sum(x),axis=1)"
      ],
      "execution_count": 16,
      "outputs": []
    },
    {
      "cell_type": "code",
      "metadata": {
        "id": "Tmo-FRZkXCuo",
        "colab_type": "code",
        "colab": {
          "base_uri": "https://localhost:8080/",
          "height": 195
        },
        "outputId": "d859e9ae-5a91-477e-c3c7-ef0928116787"
      },
      "source": [
        "df.head()"
      ],
      "execution_count": 17,
      "outputs": [
        {
          "output_type": "execute_result",
          "data": {
            "text/html": [
              "<div>\n",
              "<style scoped>\n",
              "    .dataframe tbody tr th:only-of-type {\n",
              "        vertical-align: middle;\n",
              "    }\n",
              "\n",
              "    .dataframe tbody tr th {\n",
              "        vertical-align: top;\n",
              "    }\n",
              "\n",
              "    .dataframe thead th {\n",
              "        text-align: right;\n",
              "    }\n",
              "</style>\n",
              "<table border=\"1\" class=\"dataframe\">\n",
              "  <thead>\n",
              "    <tr style=\"text-align: right;\">\n",
              "      <th></th>\n",
              "      <th>s1</th>\n",
              "      <th>s2</th>\n",
              "      <th>s3</th>\n",
              "      <th>s4</th>\n",
              "      <th>s5</th>\n",
              "      <th>obtained</th>\n",
              "    </tr>\n",
              "  </thead>\n",
              "  <tbody>\n",
              "    <tr>\n",
              "      <th>0</th>\n",
              "      <td>69</td>\n",
              "      <td>49</td>\n",
              "      <td>89</td>\n",
              "      <td>55</td>\n",
              "      <td>92</td>\n",
              "      <td>354</td>\n",
              "    </tr>\n",
              "    <tr>\n",
              "      <th>1</th>\n",
              "      <td>21</td>\n",
              "      <td>55</td>\n",
              "      <td>61</td>\n",
              "      <td>72</td>\n",
              "      <td>50</td>\n",
              "      <td>259</td>\n",
              "    </tr>\n",
              "    <tr>\n",
              "      <th>2</th>\n",
              "      <td>39</td>\n",
              "      <td>85</td>\n",
              "      <td>35</td>\n",
              "      <td>86</td>\n",
              "      <td>61</td>\n",
              "      <td>306</td>\n",
              "    </tr>\n",
              "    <tr>\n",
              "      <th>3</th>\n",
              "      <td>98</td>\n",
              "      <td>51</td>\n",
              "      <td>18</td>\n",
              "      <td>48</td>\n",
              "      <td>56</td>\n",
              "      <td>271</td>\n",
              "    </tr>\n",
              "    <tr>\n",
              "      <th>4</th>\n",
              "      <td>76</td>\n",
              "      <td>14</td>\n",
              "      <td>36</td>\n",
              "      <td>78</td>\n",
              "      <td>33</td>\n",
              "      <td>237</td>\n",
              "    </tr>\n",
              "  </tbody>\n",
              "</table>\n",
              "</div>"
            ],
            "text/plain": [
              "   s1  s2  s3  s4  s5  obtained\n",
              "0  69  49  89  55  92       354\n",
              "1  21  55  61  72  50       259\n",
              "2  39  85  35  86  61       306\n",
              "3  98  51  18  48  56       271\n",
              "4  76  14  36  78  33       237"
            ]
          },
          "metadata": {
            "tags": []
          },
          "execution_count": 17
        }
      ]
    },
    {
      "cell_type": "code",
      "metadata": {
        "id": "IUy98c-dXW-W",
        "colab_type": "code",
        "colab": {}
      },
      "source": [
        "def cals(*x):\n",
        "  return np.sum(x)\n",
        "  \n",
        "\n",
        "df['obtained'] = df.loc[:,'s1':'s5'].apply(cals,axis=1)"
      ],
      "execution_count": 19,
      "outputs": []
    },
    {
      "cell_type": "code",
      "metadata": {
        "id": "m9NjAPWmXzrl",
        "colab_type": "code",
        "colab": {
          "base_uri": "https://localhost:8080/",
          "height": 195
        },
        "outputId": "5af19aae-0e1d-4575-ed4f-ffa444d5088f"
      },
      "source": [
        "df.head()"
      ],
      "execution_count": 20,
      "outputs": [
        {
          "output_type": "execute_result",
          "data": {
            "text/html": [
              "<div>\n",
              "<style scoped>\n",
              "    .dataframe tbody tr th:only-of-type {\n",
              "        vertical-align: middle;\n",
              "    }\n",
              "\n",
              "    .dataframe tbody tr th {\n",
              "        vertical-align: top;\n",
              "    }\n",
              "\n",
              "    .dataframe thead th {\n",
              "        text-align: right;\n",
              "    }\n",
              "</style>\n",
              "<table border=\"1\" class=\"dataframe\">\n",
              "  <thead>\n",
              "    <tr style=\"text-align: right;\">\n",
              "      <th></th>\n",
              "      <th>s1</th>\n",
              "      <th>s2</th>\n",
              "      <th>s3</th>\n",
              "      <th>s4</th>\n",
              "      <th>s5</th>\n",
              "      <th>obtained</th>\n",
              "    </tr>\n",
              "  </thead>\n",
              "  <tbody>\n",
              "    <tr>\n",
              "      <th>0</th>\n",
              "      <td>69</td>\n",
              "      <td>49</td>\n",
              "      <td>89</td>\n",
              "      <td>55</td>\n",
              "      <td>92</td>\n",
              "      <td>354</td>\n",
              "    </tr>\n",
              "    <tr>\n",
              "      <th>1</th>\n",
              "      <td>21</td>\n",
              "      <td>55</td>\n",
              "      <td>61</td>\n",
              "      <td>72</td>\n",
              "      <td>50</td>\n",
              "      <td>259</td>\n",
              "    </tr>\n",
              "    <tr>\n",
              "      <th>2</th>\n",
              "      <td>39</td>\n",
              "      <td>85</td>\n",
              "      <td>35</td>\n",
              "      <td>86</td>\n",
              "      <td>61</td>\n",
              "      <td>306</td>\n",
              "    </tr>\n",
              "    <tr>\n",
              "      <th>3</th>\n",
              "      <td>98</td>\n",
              "      <td>51</td>\n",
              "      <td>18</td>\n",
              "      <td>48</td>\n",
              "      <td>56</td>\n",
              "      <td>271</td>\n",
              "    </tr>\n",
              "    <tr>\n",
              "      <th>4</th>\n",
              "      <td>76</td>\n",
              "      <td>14</td>\n",
              "      <td>36</td>\n",
              "      <td>78</td>\n",
              "      <td>33</td>\n",
              "      <td>237</td>\n",
              "    </tr>\n",
              "  </tbody>\n",
              "</table>\n",
              "</div>"
            ],
            "text/plain": [
              "   s1  s2  s3  s4  s5  obtained\n",
              "0  69  49  89  55  92       354\n",
              "1  21  55  61  72  50       259\n",
              "2  39  85  35  86  61       306\n",
              "3  98  51  18  48  56       271\n",
              "4  76  14  36  78  33       237"
            ]
          },
          "metadata": {
            "tags": []
          },
          "execution_count": 20
        }
      ]
    },
    {
      "cell_type": "code",
      "metadata": {
        "id": "_3LTsU7qX4PD",
        "colab_type": "code",
        "colab": {}
      },
      "source": [
        "df['total'] = 500"
      ],
      "execution_count": 21,
      "outputs": []
    },
    {
      "cell_type": "code",
      "metadata": {
        "id": "jE0eWRm5Ynbd",
        "colab_type": "code",
        "colab": {
          "base_uri": "https://localhost:8080/",
          "height": 195
        },
        "outputId": "59e7b374-a414-4246-c9a9-44a6c8e0e2ab"
      },
      "source": [
        "df.head()"
      ],
      "execution_count": 22,
      "outputs": [
        {
          "output_type": "execute_result",
          "data": {
            "text/html": [
              "<div>\n",
              "<style scoped>\n",
              "    .dataframe tbody tr th:only-of-type {\n",
              "        vertical-align: middle;\n",
              "    }\n",
              "\n",
              "    .dataframe tbody tr th {\n",
              "        vertical-align: top;\n",
              "    }\n",
              "\n",
              "    .dataframe thead th {\n",
              "        text-align: right;\n",
              "    }\n",
              "</style>\n",
              "<table border=\"1\" class=\"dataframe\">\n",
              "  <thead>\n",
              "    <tr style=\"text-align: right;\">\n",
              "      <th></th>\n",
              "      <th>s1</th>\n",
              "      <th>s2</th>\n",
              "      <th>s3</th>\n",
              "      <th>s4</th>\n",
              "      <th>s5</th>\n",
              "      <th>obtained</th>\n",
              "      <th>total</th>\n",
              "    </tr>\n",
              "  </thead>\n",
              "  <tbody>\n",
              "    <tr>\n",
              "      <th>0</th>\n",
              "      <td>69</td>\n",
              "      <td>49</td>\n",
              "      <td>89</td>\n",
              "      <td>55</td>\n",
              "      <td>92</td>\n",
              "      <td>354</td>\n",
              "      <td>500</td>\n",
              "    </tr>\n",
              "    <tr>\n",
              "      <th>1</th>\n",
              "      <td>21</td>\n",
              "      <td>55</td>\n",
              "      <td>61</td>\n",
              "      <td>72</td>\n",
              "      <td>50</td>\n",
              "      <td>259</td>\n",
              "      <td>500</td>\n",
              "    </tr>\n",
              "    <tr>\n",
              "      <th>2</th>\n",
              "      <td>39</td>\n",
              "      <td>85</td>\n",
              "      <td>35</td>\n",
              "      <td>86</td>\n",
              "      <td>61</td>\n",
              "      <td>306</td>\n",
              "      <td>500</td>\n",
              "    </tr>\n",
              "    <tr>\n",
              "      <th>3</th>\n",
              "      <td>98</td>\n",
              "      <td>51</td>\n",
              "      <td>18</td>\n",
              "      <td>48</td>\n",
              "      <td>56</td>\n",
              "      <td>271</td>\n",
              "      <td>500</td>\n",
              "    </tr>\n",
              "    <tr>\n",
              "      <th>4</th>\n",
              "      <td>76</td>\n",
              "      <td>14</td>\n",
              "      <td>36</td>\n",
              "      <td>78</td>\n",
              "      <td>33</td>\n",
              "      <td>237</td>\n",
              "      <td>500</td>\n",
              "    </tr>\n",
              "  </tbody>\n",
              "</table>\n",
              "</div>"
            ],
            "text/plain": [
              "   s1  s2  s3  s4  s5  obtained  total\n",
              "0  69  49  89  55  92       354    500\n",
              "1  21  55  61  72  50       259    500\n",
              "2  39  85  35  86  61       306    500\n",
              "3  98  51  18  48  56       271    500\n",
              "4  76  14  36  78  33       237    500"
            ]
          },
          "metadata": {
            "tags": []
          },
          "execution_count": 22
        }
      ]
    },
    {
      "cell_type": "code",
      "metadata": {
        "id": "Pnk85BnXYo9u",
        "colab_type": "code",
        "colab": {}
      },
      "source": [
        "df['percentage'] = df.obtained/df.total *100"
      ],
      "execution_count": 26,
      "outputs": []
    },
    {
      "cell_type": "code",
      "metadata": {
        "id": "1ZFSAXveYv-y",
        "colab_type": "code",
        "colab": {
          "base_uri": "https://localhost:8080/",
          "height": 195
        },
        "outputId": "cbabf5a6-c89b-46d5-d31a-797b8c80be88"
      },
      "source": [
        "df.head()"
      ],
      "execution_count": 27,
      "outputs": [
        {
          "output_type": "execute_result",
          "data": {
            "text/html": [
              "<div>\n",
              "<style scoped>\n",
              "    .dataframe tbody tr th:only-of-type {\n",
              "        vertical-align: middle;\n",
              "    }\n",
              "\n",
              "    .dataframe tbody tr th {\n",
              "        vertical-align: top;\n",
              "    }\n",
              "\n",
              "    .dataframe thead th {\n",
              "        text-align: right;\n",
              "    }\n",
              "</style>\n",
              "<table border=\"1\" class=\"dataframe\">\n",
              "  <thead>\n",
              "    <tr style=\"text-align: right;\">\n",
              "      <th></th>\n",
              "      <th>s1</th>\n",
              "      <th>s2</th>\n",
              "      <th>s3</th>\n",
              "      <th>s4</th>\n",
              "      <th>s5</th>\n",
              "      <th>obtained</th>\n",
              "      <th>total</th>\n",
              "      <th>percentage</th>\n",
              "    </tr>\n",
              "  </thead>\n",
              "  <tbody>\n",
              "    <tr>\n",
              "      <th>0</th>\n",
              "      <td>69</td>\n",
              "      <td>49</td>\n",
              "      <td>89</td>\n",
              "      <td>55</td>\n",
              "      <td>92</td>\n",
              "      <td>354</td>\n",
              "      <td>500</td>\n",
              "      <td>70.8</td>\n",
              "    </tr>\n",
              "    <tr>\n",
              "      <th>1</th>\n",
              "      <td>21</td>\n",
              "      <td>55</td>\n",
              "      <td>61</td>\n",
              "      <td>72</td>\n",
              "      <td>50</td>\n",
              "      <td>259</td>\n",
              "      <td>500</td>\n",
              "      <td>51.8</td>\n",
              "    </tr>\n",
              "    <tr>\n",
              "      <th>2</th>\n",
              "      <td>39</td>\n",
              "      <td>85</td>\n",
              "      <td>35</td>\n",
              "      <td>86</td>\n",
              "      <td>61</td>\n",
              "      <td>306</td>\n",
              "      <td>500</td>\n",
              "      <td>61.2</td>\n",
              "    </tr>\n",
              "    <tr>\n",
              "      <th>3</th>\n",
              "      <td>98</td>\n",
              "      <td>51</td>\n",
              "      <td>18</td>\n",
              "      <td>48</td>\n",
              "      <td>56</td>\n",
              "      <td>271</td>\n",
              "      <td>500</td>\n",
              "      <td>54.2</td>\n",
              "    </tr>\n",
              "    <tr>\n",
              "      <th>4</th>\n",
              "      <td>76</td>\n",
              "      <td>14</td>\n",
              "      <td>36</td>\n",
              "      <td>78</td>\n",
              "      <td>33</td>\n",
              "      <td>237</td>\n",
              "      <td>500</td>\n",
              "      <td>47.4</td>\n",
              "    </tr>\n",
              "  </tbody>\n",
              "</table>\n",
              "</div>"
            ],
            "text/plain": [
              "   s1  s2  s3  s4  s5  obtained  total  percentage\n",
              "0  69  49  89  55  92       354    500        70.8\n",
              "1  21  55  61  72  50       259    500        51.8\n",
              "2  39  85  35  86  61       306    500        61.2\n",
              "3  98  51  18  48  56       271    500        54.2\n",
              "4  76  14  36  78  33       237    500        47.4"
            ]
          },
          "metadata": {
            "tags": []
          },
          "execution_count": 27
        }
      ]
    },
    {
      "cell_type": "code",
      "metadata": {
        "id": "BnP_GLuzYyli",
        "colab_type": "code",
        "colab": {
          "base_uri": "https://localhost:8080/",
          "height": 195
        },
        "outputId": "dc91bfe7-10d3-49f4-bd2e-747fa07e0a71"
      },
      "source": [
        "def grade(x):\n",
        "   if x>= 80:\n",
        "    return \"A+\"\n",
        "   elif x>= 70:\n",
        "    return \"B\"\n",
        "   elif x>= 60:\n",
        "    return \"B\"\n",
        "   elif x>= 50:\n",
        "    return \"C\"\n",
        "   elif x>= 40:\n",
        "    return \"D\"\n",
        "   elif x>= 33:\n",
        "    return \"E\"\n",
        "   else:\n",
        "    return \"FAIL\"\n",
        "\n",
        "\n",
        "df['grade'] = df.percentage.apply(grade)\n",
        "df.head() "
      ],
      "execution_count": 29,
      "outputs": [
        {
          "output_type": "execute_result",
          "data": {
            "text/html": [
              "<div>\n",
              "<style scoped>\n",
              "    .dataframe tbody tr th:only-of-type {\n",
              "        vertical-align: middle;\n",
              "    }\n",
              "\n",
              "    .dataframe tbody tr th {\n",
              "        vertical-align: top;\n",
              "    }\n",
              "\n",
              "    .dataframe thead th {\n",
              "        text-align: right;\n",
              "    }\n",
              "</style>\n",
              "<table border=\"1\" class=\"dataframe\">\n",
              "  <thead>\n",
              "    <tr style=\"text-align: right;\">\n",
              "      <th></th>\n",
              "      <th>s1</th>\n",
              "      <th>s2</th>\n",
              "      <th>s3</th>\n",
              "      <th>s4</th>\n",
              "      <th>s5</th>\n",
              "      <th>obtained</th>\n",
              "      <th>total</th>\n",
              "      <th>percentage</th>\n",
              "      <th>grade</th>\n",
              "    </tr>\n",
              "  </thead>\n",
              "  <tbody>\n",
              "    <tr>\n",
              "      <th>0</th>\n",
              "      <td>69</td>\n",
              "      <td>49</td>\n",
              "      <td>89</td>\n",
              "      <td>55</td>\n",
              "      <td>92</td>\n",
              "      <td>354</td>\n",
              "      <td>500</td>\n",
              "      <td>70.8</td>\n",
              "      <td>B</td>\n",
              "    </tr>\n",
              "    <tr>\n",
              "      <th>1</th>\n",
              "      <td>21</td>\n",
              "      <td>55</td>\n",
              "      <td>61</td>\n",
              "      <td>72</td>\n",
              "      <td>50</td>\n",
              "      <td>259</td>\n",
              "      <td>500</td>\n",
              "      <td>51.8</td>\n",
              "      <td>C</td>\n",
              "    </tr>\n",
              "    <tr>\n",
              "      <th>2</th>\n",
              "      <td>39</td>\n",
              "      <td>85</td>\n",
              "      <td>35</td>\n",
              "      <td>86</td>\n",
              "      <td>61</td>\n",
              "      <td>306</td>\n",
              "      <td>500</td>\n",
              "      <td>61.2</td>\n",
              "      <td>B</td>\n",
              "    </tr>\n",
              "    <tr>\n",
              "      <th>3</th>\n",
              "      <td>98</td>\n",
              "      <td>51</td>\n",
              "      <td>18</td>\n",
              "      <td>48</td>\n",
              "      <td>56</td>\n",
              "      <td>271</td>\n",
              "      <td>500</td>\n",
              "      <td>54.2</td>\n",
              "      <td>C</td>\n",
              "    </tr>\n",
              "    <tr>\n",
              "      <th>4</th>\n",
              "      <td>76</td>\n",
              "      <td>14</td>\n",
              "      <td>36</td>\n",
              "      <td>78</td>\n",
              "      <td>33</td>\n",
              "      <td>237</td>\n",
              "      <td>500</td>\n",
              "      <td>47.4</td>\n",
              "      <td>D</td>\n",
              "    </tr>\n",
              "  </tbody>\n",
              "</table>\n",
              "</div>"
            ],
            "text/plain": [
              "   s1  s2  s3  s4  s5  obtained  total  percentage grade\n",
              "0  69  49  89  55  92       354    500        70.8     B\n",
              "1  21  55  61  72  50       259    500        51.8     C\n",
              "2  39  85  35  86  61       306    500        61.2     B\n",
              "3  98  51  18  48  56       271    500        54.2     C\n",
              "4  76  14  36  78  33       237    500        47.4     D"
            ]
          },
          "metadata": {
            "tags": []
          },
          "execution_count": 29
        }
      ]
    },
    {
      "cell_type": "code",
      "metadata": {
        "id": "1Hxy4R63Zrqz",
        "colab_type": "code",
        "colab": {
          "base_uri": "https://localhost:8080/",
          "height": 134
        },
        "outputId": "6084ffe1-9e7e-4e50-b275-7fdb0c10cfb5"
      },
      "source": [
        "df.grade.value_counts()"
      ],
      "execution_count": 30,
      "outputs": [
        {
          "output_type": "execute_result",
          "data": {
            "text/plain": [
              "C       6491\n",
              "B       6166\n",
              "D       4869\n",
              "E       1580\n",
              "FAIL     637\n",
              "A+       257\n",
              "Name: grade, dtype: int64"
            ]
          },
          "metadata": {
            "tags": []
          },
          "execution_count": 30
        }
      ]
    },
    {
      "cell_type": "code",
      "metadata": {
        "id": "yz_f6Gs8Z-sp",
        "colab_type": "code",
        "colab": {
          "base_uri": "https://localhost:8080/",
          "height": 402
        },
        "outputId": "0eef6c1f-f6b7-4d10-b24b-6f47ca1437a7"
      },
      "source": [
        "pd.get_dummies(df.grade)"
      ],
      "execution_count": 31,
      "outputs": [
        {
          "output_type": "execute_result",
          "data": {
            "text/html": [
              "<div>\n",
              "<style scoped>\n",
              "    .dataframe tbody tr th:only-of-type {\n",
              "        vertical-align: middle;\n",
              "    }\n",
              "\n",
              "    .dataframe tbody tr th {\n",
              "        vertical-align: top;\n",
              "    }\n",
              "\n",
              "    .dataframe thead th {\n",
              "        text-align: right;\n",
              "    }\n",
              "</style>\n",
              "<table border=\"1\" class=\"dataframe\">\n",
              "  <thead>\n",
              "    <tr style=\"text-align: right;\">\n",
              "      <th></th>\n",
              "      <th>A+</th>\n",
              "      <th>B</th>\n",
              "      <th>C</th>\n",
              "      <th>D</th>\n",
              "      <th>E</th>\n",
              "      <th>FAIL</th>\n",
              "    </tr>\n",
              "  </thead>\n",
              "  <tbody>\n",
              "    <tr>\n",
              "      <th>0</th>\n",
              "      <td>0</td>\n",
              "      <td>1</td>\n",
              "      <td>0</td>\n",
              "      <td>0</td>\n",
              "      <td>0</td>\n",
              "      <td>0</td>\n",
              "    </tr>\n",
              "    <tr>\n",
              "      <th>1</th>\n",
              "      <td>0</td>\n",
              "      <td>0</td>\n",
              "      <td>1</td>\n",
              "      <td>0</td>\n",
              "      <td>0</td>\n",
              "      <td>0</td>\n",
              "    </tr>\n",
              "    <tr>\n",
              "      <th>2</th>\n",
              "      <td>0</td>\n",
              "      <td>1</td>\n",
              "      <td>0</td>\n",
              "      <td>0</td>\n",
              "      <td>0</td>\n",
              "      <td>0</td>\n",
              "    </tr>\n",
              "    <tr>\n",
              "      <th>3</th>\n",
              "      <td>0</td>\n",
              "      <td>0</td>\n",
              "      <td>1</td>\n",
              "      <td>0</td>\n",
              "      <td>0</td>\n",
              "      <td>0</td>\n",
              "    </tr>\n",
              "    <tr>\n",
              "      <th>4</th>\n",
              "      <td>0</td>\n",
              "      <td>0</td>\n",
              "      <td>0</td>\n",
              "      <td>1</td>\n",
              "      <td>0</td>\n",
              "      <td>0</td>\n",
              "    </tr>\n",
              "    <tr>\n",
              "      <th>...</th>\n",
              "      <td>...</td>\n",
              "      <td>...</td>\n",
              "      <td>...</td>\n",
              "      <td>...</td>\n",
              "      <td>...</td>\n",
              "      <td>...</td>\n",
              "    </tr>\n",
              "    <tr>\n",
              "      <th>19995</th>\n",
              "      <td>0</td>\n",
              "      <td>0</td>\n",
              "      <td>0</td>\n",
              "      <td>0</td>\n",
              "      <td>1</td>\n",
              "      <td>0</td>\n",
              "    </tr>\n",
              "    <tr>\n",
              "      <th>19996</th>\n",
              "      <td>0</td>\n",
              "      <td>0</td>\n",
              "      <td>0</td>\n",
              "      <td>0</td>\n",
              "      <td>1</td>\n",
              "      <td>0</td>\n",
              "    </tr>\n",
              "    <tr>\n",
              "      <th>19997</th>\n",
              "      <td>0</td>\n",
              "      <td>0</td>\n",
              "      <td>0</td>\n",
              "      <td>0</td>\n",
              "      <td>1</td>\n",
              "      <td>0</td>\n",
              "    </tr>\n",
              "    <tr>\n",
              "      <th>19998</th>\n",
              "      <td>0</td>\n",
              "      <td>0</td>\n",
              "      <td>0</td>\n",
              "      <td>1</td>\n",
              "      <td>0</td>\n",
              "      <td>0</td>\n",
              "    </tr>\n",
              "    <tr>\n",
              "      <th>19999</th>\n",
              "      <td>0</td>\n",
              "      <td>0</td>\n",
              "      <td>0</td>\n",
              "      <td>1</td>\n",
              "      <td>0</td>\n",
              "      <td>0</td>\n",
              "    </tr>\n",
              "  </tbody>\n",
              "</table>\n",
              "<p>20000 rows × 6 columns</p>\n",
              "</div>"
            ],
            "text/plain": [
              "       A+  B  C  D  E  FAIL\n",
              "0       0  1  0  0  0     0\n",
              "1       0  0  1  0  0     0\n",
              "2       0  1  0  0  0     0\n",
              "3       0  0  1  0  0     0\n",
              "4       0  0  0  1  0     0\n",
              "...    .. .. .. .. ..   ...\n",
              "19995   0  0  0  0  1     0\n",
              "19996   0  0  0  0  1     0\n",
              "19997   0  0  0  0  1     0\n",
              "19998   0  0  0  1  0     0\n",
              "19999   0  0  0  1  0     0\n",
              "\n",
              "[20000 rows x 6 columns]"
            ]
          },
          "metadata": {
            "tags": []
          },
          "execution_count": 31
        }
      ]
    },
    {
      "cell_type": "code",
      "metadata": {
        "id": "PaGqT8IJbNyS",
        "colab_type": "code",
        "colab": {}
      },
      "source": [
        "X = df.loc[:,'s1':'s5']\n",
        "Y = pd.get_dummies(df.grade)"
      ],
      "execution_count": 36,
      "outputs": []
    },
    {
      "cell_type": "code",
      "metadata": {
        "id": "JWRHffO9g03f",
        "colab_type": "code",
        "colab": {
          "base_uri": "https://localhost:8080/",
          "height": 195
        },
        "outputId": "bae1e17e-7b92-41e3-e16c-f46b0d9645d9"
      },
      "source": [
        "X.head()\n"
      ],
      "execution_count": 37,
      "outputs": [
        {
          "output_type": "execute_result",
          "data": {
            "text/html": [
              "<div>\n",
              "<style scoped>\n",
              "    .dataframe tbody tr th:only-of-type {\n",
              "        vertical-align: middle;\n",
              "    }\n",
              "\n",
              "    .dataframe tbody tr th {\n",
              "        vertical-align: top;\n",
              "    }\n",
              "\n",
              "    .dataframe thead th {\n",
              "        text-align: right;\n",
              "    }\n",
              "</style>\n",
              "<table border=\"1\" class=\"dataframe\">\n",
              "  <thead>\n",
              "    <tr style=\"text-align: right;\">\n",
              "      <th></th>\n",
              "      <th>s1</th>\n",
              "      <th>s2</th>\n",
              "      <th>s3</th>\n",
              "      <th>s4</th>\n",
              "      <th>s5</th>\n",
              "    </tr>\n",
              "  </thead>\n",
              "  <tbody>\n",
              "    <tr>\n",
              "      <th>0</th>\n",
              "      <td>69</td>\n",
              "      <td>49</td>\n",
              "      <td>89</td>\n",
              "      <td>55</td>\n",
              "      <td>92</td>\n",
              "    </tr>\n",
              "    <tr>\n",
              "      <th>1</th>\n",
              "      <td>21</td>\n",
              "      <td>55</td>\n",
              "      <td>61</td>\n",
              "      <td>72</td>\n",
              "      <td>50</td>\n",
              "    </tr>\n",
              "    <tr>\n",
              "      <th>2</th>\n",
              "      <td>39</td>\n",
              "      <td>85</td>\n",
              "      <td>35</td>\n",
              "      <td>86</td>\n",
              "      <td>61</td>\n",
              "    </tr>\n",
              "    <tr>\n",
              "      <th>3</th>\n",
              "      <td>98</td>\n",
              "      <td>51</td>\n",
              "      <td>18</td>\n",
              "      <td>48</td>\n",
              "      <td>56</td>\n",
              "    </tr>\n",
              "    <tr>\n",
              "      <th>4</th>\n",
              "      <td>76</td>\n",
              "      <td>14</td>\n",
              "      <td>36</td>\n",
              "      <td>78</td>\n",
              "      <td>33</td>\n",
              "    </tr>\n",
              "  </tbody>\n",
              "</table>\n",
              "</div>"
            ],
            "text/plain": [
              "   s1  s2  s3  s4  s5\n",
              "0  69  49  89  55  92\n",
              "1  21  55  61  72  50\n",
              "2  39  85  35  86  61\n",
              "3  98  51  18  48  56\n",
              "4  76  14  36  78  33"
            ]
          },
          "metadata": {
            "tags": []
          },
          "execution_count": 37
        }
      ]
    },
    {
      "cell_type": "code",
      "metadata": {
        "id": "X0Szaatvg6IA",
        "colab_type": "code",
        "colab": {
          "base_uri": "https://localhost:8080/",
          "height": 195
        },
        "outputId": "537cfc6e-083c-4554-c737-4a04b1a1b90d"
      },
      "source": [
        "Y.head()"
      ],
      "execution_count": 38,
      "outputs": [
        {
          "output_type": "execute_result",
          "data": {
            "text/html": [
              "<div>\n",
              "<style scoped>\n",
              "    .dataframe tbody tr th:only-of-type {\n",
              "        vertical-align: middle;\n",
              "    }\n",
              "\n",
              "    .dataframe tbody tr th {\n",
              "        vertical-align: top;\n",
              "    }\n",
              "\n",
              "    .dataframe thead th {\n",
              "        text-align: right;\n",
              "    }\n",
              "</style>\n",
              "<table border=\"1\" class=\"dataframe\">\n",
              "  <thead>\n",
              "    <tr style=\"text-align: right;\">\n",
              "      <th></th>\n",
              "      <th>A+</th>\n",
              "      <th>B</th>\n",
              "      <th>C</th>\n",
              "      <th>D</th>\n",
              "      <th>E</th>\n",
              "      <th>FAIL</th>\n",
              "    </tr>\n",
              "  </thead>\n",
              "  <tbody>\n",
              "    <tr>\n",
              "      <th>0</th>\n",
              "      <td>0</td>\n",
              "      <td>1</td>\n",
              "      <td>0</td>\n",
              "      <td>0</td>\n",
              "      <td>0</td>\n",
              "      <td>0</td>\n",
              "    </tr>\n",
              "    <tr>\n",
              "      <th>1</th>\n",
              "      <td>0</td>\n",
              "      <td>0</td>\n",
              "      <td>1</td>\n",
              "      <td>0</td>\n",
              "      <td>0</td>\n",
              "      <td>0</td>\n",
              "    </tr>\n",
              "    <tr>\n",
              "      <th>2</th>\n",
              "      <td>0</td>\n",
              "      <td>1</td>\n",
              "      <td>0</td>\n",
              "      <td>0</td>\n",
              "      <td>0</td>\n",
              "      <td>0</td>\n",
              "    </tr>\n",
              "    <tr>\n",
              "      <th>3</th>\n",
              "      <td>0</td>\n",
              "      <td>0</td>\n",
              "      <td>1</td>\n",
              "      <td>0</td>\n",
              "      <td>0</td>\n",
              "      <td>0</td>\n",
              "    </tr>\n",
              "    <tr>\n",
              "      <th>4</th>\n",
              "      <td>0</td>\n",
              "      <td>0</td>\n",
              "      <td>0</td>\n",
              "      <td>1</td>\n",
              "      <td>0</td>\n",
              "      <td>0</td>\n",
              "    </tr>\n",
              "  </tbody>\n",
              "</table>\n",
              "</div>"
            ],
            "text/plain": [
              "   A+  B  C  D  E  FAIL\n",
              "0   0  1  0  0  0     0\n",
              "1   0  0  1  0  0     0\n",
              "2   0  1  0  0  0     0\n",
              "3   0  0  1  0  0     0\n",
              "4   0  0  0  1  0     0"
            ]
          },
          "metadata": {
            "tags": []
          },
          "execution_count": 38
        }
      ]
    },
    {
      "cell_type": "code",
      "metadata": {
        "id": "Ru2Tj0psg9R4",
        "colab_type": "code",
        "colab": {
          "base_uri": "https://localhost:8080/",
          "height": 34
        },
        "outputId": "6a27c532-b29e-4ac9-d7c3-dd56fa8545c8"
      },
      "source": [
        "X.shape"
      ],
      "execution_count": 39,
      "outputs": [
        {
          "output_type": "execute_result",
          "data": {
            "text/plain": [
              "(20000, 5)"
            ]
          },
          "metadata": {
            "tags": []
          },
          "execution_count": 39
        }
      ]
    },
    {
      "cell_type": "code",
      "metadata": {
        "id": "B6LtpITLhHFb",
        "colab_type": "code",
        "colab": {
          "base_uri": "https://localhost:8080/",
          "height": 34
        },
        "outputId": "8b3f6170-4113-4650-efd9-31b17ad53324"
      },
      "source": [
        "Y.shape"
      ],
      "execution_count": 40,
      "outputs": [
        {
          "output_type": "execute_result",
          "data": {
            "text/plain": [
              "(20000, 6)"
            ]
          },
          "metadata": {
            "tags": []
          },
          "execution_count": 40
        }
      ]
    },
    {
      "cell_type": "code",
      "metadata": {
        "id": "ZFSy_TM9m0IU",
        "colab_type": "code",
        "colab": {}
      },
      "source": [
        "from tensorflow.keras.models import Sequential\n",
        "from tensorflow.keras.layers import Dense\n",
        "from tensorflow.keras.optimizers import Adam, SGD\n",
        "\n",
        "\n",
        "\n",
        "\n",
        "\n",
        "model = Sequential()            \n",
        "\n",
        "model.add(Dense(5,input_shape=(5,),activation='relu'))      \n",
        "model.add(Dense(6,activation='softmax')) #second layer"
      ],
      "execution_count": 50,
      "outputs": []
    },
    {
      "cell_type": "code",
      "metadata": {
        "id": "wCBZqkHmlAyS",
        "colab_type": "code",
        "colab": {
          "base_uri": "https://localhost:8080/",
          "height": 218
        },
        "outputId": "4dd44e28-8bcf-4bf6-e97f-90d9a4321346"
      },
      "source": [
        "model.summary()"
      ],
      "execution_count": 52,
      "outputs": [
        {
          "output_type": "stream",
          "text": [
            "Model: \"sequential_1\"\n",
            "_________________________________________________________________\n",
            "Layer (type)                 Output Shape              Param #   \n",
            "=================================================================\n",
            "dense_4 (Dense)              (None, 5)                 30        \n",
            "_________________________________________________________________\n",
            "dense_5 (Dense)              (None, 6)                 36        \n",
            "=================================================================\n",
            "Total params: 66\n",
            "Trainable params: 66\n",
            "Non-trainable params: 0\n",
            "_________________________________________________________________\n"
          ],
          "name": "stdout"
        }
      ]
    },
    {
      "cell_type": "code",
      "metadata": {
        "id": "OHnNiGNAnKKC",
        "colab_type": "code",
        "colab": {}
      },
      "source": [
        "model.compile(optimizer=SGD(lr=0.2), \n",
        "              loss='categorical_crossentropy',     \n",
        "              metrics=['acc']\n",
        "              )"
      ],
      "execution_count": 53,
      "outputs": []
    },
    {
      "cell_type": "code",
      "metadata": {
        "id": "l0652FGvnSCo",
        "colab_type": "code",
        "colab": {
          "base_uri": "https://localhost:8080/",
          "height": 370
        },
        "outputId": "b02237b8-5a99-4708-ce11-74bd4e59a03c"
      },
      "source": [
        "model.fit(X,Y, epochs=10)"
      ],
      "execution_count": 55,
      "outputs": [
        {
          "output_type": "stream",
          "text": [
            "Epoch 1/10\n",
            "625/625 [==============================] - 1s 1ms/step - loss: 1.4996 - acc: 0.3212\n",
            "Epoch 2/10\n",
            "625/625 [==============================] - 1s 1ms/step - loss: 1.4397 - acc: 0.3164\n",
            "Epoch 3/10\n",
            "625/625 [==============================] - 1s 1ms/step - loss: 1.4395 - acc: 0.3214\n",
            "Epoch 4/10\n",
            "625/625 [==============================] - 1s 1ms/step - loss: 1.4397 - acc: 0.3196\n",
            "Epoch 5/10\n",
            "625/625 [==============================] - 1s 1ms/step - loss: 1.4392 - acc: 0.3211\n",
            "Epoch 6/10\n",
            "625/625 [==============================] - 1s 1ms/step - loss: 1.4394 - acc: 0.3252\n",
            "Epoch 7/10\n",
            "625/625 [==============================] - 1s 1ms/step - loss: 1.4392 - acc: 0.3185\n",
            "Epoch 8/10\n",
            "625/625 [==============================] - 1s 1ms/step - loss: 1.4395 - acc: 0.3210\n",
            "Epoch 9/10\n",
            "625/625 [==============================] - 1s 1ms/step - loss: 1.4394 - acc: 0.3228\n",
            "Epoch 10/10\n",
            "625/625 [==============================] - 1s 1ms/step - loss: 1.4394 - acc: 0.3247\n"
          ],
          "name": "stdout"
        },
        {
          "output_type": "execute_result",
          "data": {
            "text/plain": [
              "<tensorflow.python.keras.callbacks.History at 0x7fdf41fd3b70>"
            ]
          },
          "metadata": {
            "tags": []
          },
          "execution_count": 55
        }
      ]
    },
    {
      "cell_type": "code",
      "metadata": {
        "id": "l0eX6MganYEf",
        "colab_type": "code",
        "colab": {
          "base_uri": "https://localhost:8080/",
          "height": 343
        },
        "outputId": "6b62f299-e0bd-41af-ef47-724df0294cd4"
      },
      "source": [
        "df['predict'] = Y.columns.take(np.argmax(model.predict(df.loc[:,'s1':'s5']),\n",
        "    axis=1 ))\n",
        "\n",
        "df.head(10)"
      ],
      "execution_count": 61,
      "outputs": [
        {
          "output_type": "execute_result",
          "data": {
            "text/html": [
              "<div>\n",
              "<style scoped>\n",
              "    .dataframe tbody tr th:only-of-type {\n",
              "        vertical-align: middle;\n",
              "    }\n",
              "\n",
              "    .dataframe tbody tr th {\n",
              "        vertical-align: top;\n",
              "    }\n",
              "\n",
              "    .dataframe thead th {\n",
              "        text-align: right;\n",
              "    }\n",
              "</style>\n",
              "<table border=\"1\" class=\"dataframe\">\n",
              "  <thead>\n",
              "    <tr style=\"text-align: right;\">\n",
              "      <th></th>\n",
              "      <th>s1</th>\n",
              "      <th>s2</th>\n",
              "      <th>s3</th>\n",
              "      <th>s4</th>\n",
              "      <th>s5</th>\n",
              "      <th>obtained</th>\n",
              "      <th>total</th>\n",
              "      <th>percentage</th>\n",
              "      <th>grade</th>\n",
              "      <th>predict</th>\n",
              "    </tr>\n",
              "  </thead>\n",
              "  <tbody>\n",
              "    <tr>\n",
              "      <th>0</th>\n",
              "      <td>69</td>\n",
              "      <td>49</td>\n",
              "      <td>89</td>\n",
              "      <td>55</td>\n",
              "      <td>92</td>\n",
              "      <td>354</td>\n",
              "      <td>500</td>\n",
              "      <td>70.8</td>\n",
              "      <td>B</td>\n",
              "      <td>B</td>\n",
              "    </tr>\n",
              "    <tr>\n",
              "      <th>1</th>\n",
              "      <td>21</td>\n",
              "      <td>55</td>\n",
              "      <td>61</td>\n",
              "      <td>72</td>\n",
              "      <td>50</td>\n",
              "      <td>259</td>\n",
              "      <td>500</td>\n",
              "      <td>51.8</td>\n",
              "      <td>C</td>\n",
              "      <td>B</td>\n",
              "    </tr>\n",
              "    <tr>\n",
              "      <th>2</th>\n",
              "      <td>39</td>\n",
              "      <td>85</td>\n",
              "      <td>35</td>\n",
              "      <td>86</td>\n",
              "      <td>61</td>\n",
              "      <td>306</td>\n",
              "      <td>500</td>\n",
              "      <td>61.2</td>\n",
              "      <td>B</td>\n",
              "      <td>B</td>\n",
              "    </tr>\n",
              "    <tr>\n",
              "      <th>3</th>\n",
              "      <td>98</td>\n",
              "      <td>51</td>\n",
              "      <td>18</td>\n",
              "      <td>48</td>\n",
              "      <td>56</td>\n",
              "      <td>271</td>\n",
              "      <td>500</td>\n",
              "      <td>54.2</td>\n",
              "      <td>C</td>\n",
              "      <td>B</td>\n",
              "    </tr>\n",
              "    <tr>\n",
              "      <th>4</th>\n",
              "      <td>76</td>\n",
              "      <td>14</td>\n",
              "      <td>36</td>\n",
              "      <td>78</td>\n",
              "      <td>33</td>\n",
              "      <td>237</td>\n",
              "      <td>500</td>\n",
              "      <td>47.4</td>\n",
              "      <td>D</td>\n",
              "      <td>B</td>\n",
              "    </tr>\n",
              "    <tr>\n",
              "      <th>5</th>\n",
              "      <td>22</td>\n",
              "      <td>78</td>\n",
              "      <td>81</td>\n",
              "      <td>17</td>\n",
              "      <td>56</td>\n",
              "      <td>254</td>\n",
              "      <td>500</td>\n",
              "      <td>50.8</td>\n",
              "      <td>C</td>\n",
              "      <td>B</td>\n",
              "    </tr>\n",
              "    <tr>\n",
              "      <th>6</th>\n",
              "      <td>73</td>\n",
              "      <td>18</td>\n",
              "      <td>51</td>\n",
              "      <td>38</td>\n",
              "      <td>91</td>\n",
              "      <td>271</td>\n",
              "      <td>500</td>\n",
              "      <td>54.2</td>\n",
              "      <td>C</td>\n",
              "      <td>B</td>\n",
              "    </tr>\n",
              "    <tr>\n",
              "      <th>7</th>\n",
              "      <td>31</td>\n",
              "      <td>25</td>\n",
              "      <td>46</td>\n",
              "      <td>40</td>\n",
              "      <td>57</td>\n",
              "      <td>199</td>\n",
              "      <td>500</td>\n",
              "      <td>39.8</td>\n",
              "      <td>E</td>\n",
              "      <td>B</td>\n",
              "    </tr>\n",
              "    <tr>\n",
              "      <th>8</th>\n",
              "      <td>63</td>\n",
              "      <td>94</td>\n",
              "      <td>70</td>\n",
              "      <td>27</td>\n",
              "      <td>32</td>\n",
              "      <td>286</td>\n",
              "      <td>500</td>\n",
              "      <td>57.2</td>\n",
              "      <td>C</td>\n",
              "      <td>B</td>\n",
              "    </tr>\n",
              "    <tr>\n",
              "      <th>9</th>\n",
              "      <td>33</td>\n",
              "      <td>54</td>\n",
              "      <td>14</td>\n",
              "      <td>81</td>\n",
              "      <td>84</td>\n",
              "      <td>266</td>\n",
              "      <td>500</td>\n",
              "      <td>53.2</td>\n",
              "      <td>C</td>\n",
              "      <td>B</td>\n",
              "    </tr>\n",
              "  </tbody>\n",
              "</table>\n",
              "</div>"
            ],
            "text/plain": [
              "   s1  s2  s3  s4  s5  obtained  total  percentage grade predict\n",
              "0  69  49  89  55  92       354    500        70.8     B       B\n",
              "1  21  55  61  72  50       259    500        51.8     C       B\n",
              "2  39  85  35  86  61       306    500        61.2     B       B\n",
              "3  98  51  18  48  56       271    500        54.2     C       B\n",
              "4  76  14  36  78  33       237    500        47.4     D       B\n",
              "5  22  78  81  17  56       254    500        50.8     C       B\n",
              "6  73  18  51  38  91       271    500        54.2     C       B\n",
              "7  31  25  46  40  57       199    500        39.8     E       B\n",
              "8  63  94  70  27  32       286    500        57.2     C       B\n",
              "9  33  54  14  81  84       266    500        53.2     C       B"
            ]
          },
          "metadata": {
            "tags": []
          },
          "execution_count": 61
        }
      ]
    },
    {
      "cell_type": "code",
      "metadata": {
        "id": "nswvTKqinoHn",
        "colab_type": "code",
        "colab": {
          "base_uri": "https://localhost:8080/",
          "height": 50
        },
        "outputId": "405f9de0-0f5b-4d95-eebb-1d9fc76b61a3"
      },
      "source": [
        "df.predict.value_counts()"
      ],
      "execution_count": 62,
      "outputs": [
        {
          "output_type": "execute_result",
          "data": {
            "text/plain": [
              "B    20000\n",
              "Name: predict, dtype: int64"
            ]
          },
          "metadata": {
            "tags": []
          },
          "execution_count": 62
        }
      ]
    },
    {
      "cell_type": "code",
      "metadata": {
        "id": "ixFu0aUpnq9z",
        "colab_type": "code",
        "colab": {}
      },
      "source": [
        ""
      ],
      "execution_count": null,
      "outputs": []
    }
  ]
}