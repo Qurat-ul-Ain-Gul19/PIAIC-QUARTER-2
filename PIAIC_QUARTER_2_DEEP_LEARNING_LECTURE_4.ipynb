{
  "nbformat": 4,
  "nbformat_minor": 0,
  "metadata": {
    "colab": {
      "name": "PIAIC QUARTER 2 DEEP LEARNING  LECTURE 4.ipynb",
      "provenance": [],
      "collapsed_sections": []
    },
    "kernelspec": {
      "name": "python3",
      "display_name": "Python 3"
    }
  },
  "cells": [
    {
      "cell_type": "markdown",
      "metadata": {
        "id": "mhhXRuBaMY12",
        "colab_type": "text"
      },
      "source": [
        "REGRESSION PROBLEM FOR DEEP LEARNING USING KERAS"
      ]
    },
    {
      "cell_type": "markdown",
      "metadata": {
        "id": "l4pVhT4xMVQ9",
        "colab_type": "text"
      },
      "source": [
        "https://marktechpost.com/2019/06/17/regression-with-keras-deep-learning-with-keras-part-3/?cn-reloaded=1\n"
      ]
    },
    {
      "cell_type": "markdown",
      "metadata": {
        "id": "_9ga9Q4cMgkt",
        "colab_type": "text"
      },
      "source": [
        ""
      ]
    }
  ]
}