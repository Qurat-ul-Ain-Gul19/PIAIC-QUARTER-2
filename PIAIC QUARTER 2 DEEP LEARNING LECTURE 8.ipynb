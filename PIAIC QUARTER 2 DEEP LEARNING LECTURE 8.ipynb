{
 "cells": [
  {
   "cell_type": "code",
   "execution_count": null,
   "metadata": {},
   "outputs": [],
   "source": [
    "CHPATER 2\n",
    "20 SEPTEMBER : END OF QUARTER 2"
   ]
  },
  {
   "cell_type": "markdown",
   "metadata": {},
   "source": [
    "# CHAPTER 3"
   ]
  },
  {
   "cell_type": "code",
   "execution_count": null,
   "metadata": {},
   "outputs": [],
   "source": [
    "How to convert audio file into numpy array\n",
    "time series data\n",
    "frequenscy time\n",
    "\n",
    "Time..frequecny>.classification can ve done\n",
    "\n",
    "\n",
    "1.audio into graph(image)\n",
    "and then the model is trained"
   ]
  },
  {
   "cell_type": "code",
   "execution_count": null,
   "metadata": {},
   "outputs": [],
   "source": [
    "CONVONUTIONAL NEURAL NETWORK\n",
    "for image manipulations"
   ]
  },
  {
   "cell_type": "code",
   "execution_count": null,
   "metadata": {},
   "outputs": [],
   "source": [
    "AUDIO READ AND PLACE IT ON MATPLOTLIB\n",
    "1.an extension of audio file to be plotted on matplotlib in \n",
    "graphical reprsentation"
   ]
  },
  {
   "cell_type": "code",
   "execution_count": null,
   "metadata": {},
   "outputs": [],
   "source": [
    "COMMON CASES OF NEURAL NETWORKS:\n",
    "    1.Binary classification(0 or 1 , cat or not cat classification)\n",
    "    2.multiclass classification(mnist, mnist fashion)\n",
    "    3.scaler regression"
   ]
  },
  {
   "cell_type": "code",
   "execution_count": null,
   "metadata": {},
   "outputs": [],
   "source": [
    "NLP: Sentiment analysis\n",
    "    for comments reveiw"
   ]
  },
  {
   "cell_type": "code",
   "execution_count": null,
   "metadata": {},
   "outputs": [],
   "source": [
    "1.classification movie reveiws as positive or negative(binary classification) IMDB\n",
    "2.classifying new wires by topic(multiclass classification) ROUTERS 46 CLASSES\n",
    "3.Estimating the brice of house given by real state(regression) BOUSTAN CLASSES\n",
    "(where we dont apply activation function on last layer: regression problem)"
   ]
  },
  {
   "cell_type": "code",
   "execution_count": null,
   "metadata": {},
   "outputs": [],
   "source": [
    "Types of errors:\n",
    "    1.under fitting\n",
    "    2.over fitting \n",
    "    3ideal fitting\n",
    "    "
   ]
  },
  {
   "cell_type": "code",
   "execution_count": null,
   "metadata": {},
   "outputs": [],
   "source": [
    "major general saeed nagra \n",
    "dg w& r ghq rawalpindi \n",
    "commanding officer"
   ]
  },
  {
   "cell_type": "code",
   "execution_count": null,
   "metadata": {},
   "outputs": [],
   "source": [
    "chapter 4 is very important "
   ]
  },
  {
   "cell_type": "code",
   "execution_count": null,
   "metadata": {},
   "outputs": [],
   "source": [
    "weights are input shaped transposed "
   ]
  },
  {
   "cell_type": "code",
   "execution_count": null,
   "metadata": {},
   "outputs": [],
   "source": [
    "activation function [X . W (multiplication)]\n",
    "then y is predicted"
   ]
  },
  {
   "cell_type": "code",
   "execution_count": null,
   "metadata": {},
   "outputs": [],
   "source": [
    "TOUPOLOGY:\n",
    "    how one computer(node) connects to the other node"
   ]
  },
  {
   "cell_type": "code",
   "execution_count": null,
   "metadata": {},
   "outputs": [],
   "source": [
    "layers convert row data into meaningful transformation"
   ]
  },
  {
   "cell_type": "code",
   "execution_count": null,
   "metadata": {},
   "outputs": [],
   "source": [
    "TYpes of layers"
   ]
  },
  {
   "cell_type": "code",
   "execution_count": null,
   "metadata": {},
   "outputs": [],
   "source": [
    "Stateless means it donot keep any info with it , no previous data \n",
    "and state full  , desly connected layers"
   ]
  },
  {
   "cell_type": "code",
   "execution_count": null,
   "metadata": {},
   "outputs": [],
   "source": [
    "state full learns wa nd b values by stochatic gradient descent optimizer"
   ]
  },
  {
   "cell_type": "code",
   "execution_count": null,
   "metadata": {},
   "outputs": [],
   "source": [
    "densly connected or fully connected layer"
   ]
  },
  {
   "cell_type": "code",
   "execution_count": null,
   "metadata": {},
   "outputs": [],
   "source": [
    "Sequence data : audio data\n",
    "    any data in which time comes it becomes sequential layer"
   ]
  },
  {
   "cell_type": "code",
   "execution_count": null,
   "metadata": {},
   "outputs": [],
   "source": [
    "weather forcasting:\n",
    "    regression>>>>how much it will rain\n",
    "    classifictaion>>> rain or no rain"
   ]
  },
  {
   "cell_type": "code",
   "execution_count": null,
   "metadata": {},
   "outputs": [],
   "source": [
    "CONV2D 2 convolytional layers"
   ]
  },
  {
   "cell_type": "code",
   "execution_count": null,
   "metadata": {},
   "outputs": [],
   "source": [
    "Recurrent neural network"
   ]
  },
  {
   "cell_type": "code",
   "execution_count": null,
   "metadata": {},
   "outputs": [],
   "source": [
    "lstm....long short term memory\n",
    "keeps previous knowledge"
   ]
  },
  {
   "cell_type": "code",
   "execution_count": null,
   "metadata": {},
   "outputs": [],
   "source": [
    "NETWORK TOPOLOGY :\n",
    "    how networks lets connected, possible ways of connectivity\n",
    "two branch networks\n",
    "multihead networks\n",
    "inception networks"
   ]
  },
  {
   "cell_type": "code",
   "execution_count": null,
   "metadata": {},
   "outputs": [],
   "source": [
    "Hypothesis space:\n",
    "    whole network , physical space...\n",
    "    \n",
    "Hyper paramters:\n",
    "    That are ammendable"
   ]
  },
  {
   "cell_type": "code",
   "execution_count": null,
   "metadata": {},
   "outputs": [],
   "source": [
    "Loss function , objective function"
   ]
  },
  {
   "cell_type": "raw",
   "metadata": {},
   "source": [
    "\n",
    "Binary crossentropy (loss funtion)\n",
    "for two classes\n",
    "\n",
    "categorical :for multi class classification\n",
    "\n",
    "mean squre error :regression problem\n",
    "\n",
    "sequential"
   ]
  },
  {
   "cell_type": "code",
   "execution_count": null,
   "metadata": {},
   "outputs": [],
   "source": [
    "https://pern-my.sharepoint.com/:f:/g/personal/tanzeel_8753118_talmeez_pk/ElaTGxQRVKhKhvaiQL4n3AIBao2-0ZTSq_Dv-vJv7HzXHw?e=fgGuon"
   ]
  },
  {
   "cell_type": "code",
   "execution_count": null,
   "metadata": {},
   "outputs": [],
   "source": [
    "qwerty@123"
   ]
  },
  {
   "cell_type": "code",
   "execution_count": null,
   "metadata": {},
   "outputs": [],
   "source": [
    "KERAS BENFEITS:\n",
    "    GPU AND CPU same code before that diff code \n",
    "    User friedly api..quickly\n",
    "    buitlin cnn rnn , "
   ]
  },
  {
   "cell_type": "code",
   "execution_count": null,
   "metadata": {},
   "outputs": [],
   "source": [
    "3.4 page 68\n",
    "\n",
    "3.6 run code"
   ]
  }
 ],
 "metadata": {
  "kernelspec": {
   "display_name": "Python 3",
   "language": "python",
   "name": "python3"
  },
  "language_info": {
   "codemirror_mode": {
    "name": "ipython",
    "version": 3
   },
   "file_extension": ".py",
   "mimetype": "text/x-python",
   "name": "python",
   "nbconvert_exporter": "python",
   "pygments_lexer": "ipython3",
   "version": "3.7.3"
  }
 },
 "nbformat": 4,
 "nbformat_minor": 4
}
