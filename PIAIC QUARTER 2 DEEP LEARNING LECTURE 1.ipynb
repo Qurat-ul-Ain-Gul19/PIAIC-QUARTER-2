{
 "cells": [
  {
   "cell_type": "markdown",
   "metadata": {},
   "source": [
    "# Intelligence"
   ]
  },
  {
   "cell_type": "raw",
   "metadata": {},
   "source": [
    "human learns everything from experiences and observations,\n",
    "learning from experienecs by gaining information he becomes able to solve the new \n",
    "problem with already acquired knowledge"
   ]
  },
  {
   "cell_type": "raw",
   "metadata": {},
   "source": [
    "HOW HUMAN LEARNS\n",
    "     input : some image, sound ,graph shown to human\n",
    "     output : label \n",
    "     for learning input and output both given to brain\n",
    "     learning becomes experience\n",
    "     on new input the brain matches it with already outputs , labels in brain"
   ]
  },
  {
   "cell_type": "markdown",
   "metadata": {},
   "source": [
    "# ARTIFICIAL INTELLIGENCE"
   ]
  },
  {
   "cell_type": "raw",
   "metadata": {},
   "source": [
    " \n",
    "   \" The ability of machines to act , think and perform like humans is called artificial intelligence\"\n",
    "    \n",
    "SYMOBLIC AI...CLASSICAL PROGRAMMING\n",
    "\n",
    "MACHINE PROGRAMMING\n",
    "\n",
    "    rules ....>\n",
    "            classical programming.....  ->Answers\n",
    "    data......>\n",
    "\n",
    "rules:user name and password given , if matched to db then give access...(code) \n",
    "whole logic ...if this else this\n",
    "\n",
    "data: any user trying to login with his user name and password which is his data"
   ]
  },
  {
   "cell_type": "markdown",
   "metadata": {},
   "source": [
    "# MACHINE LEARNING"
   ]
  },
  {
   "cell_type": "raw",
   "metadata": {},
   "source": [
    "\n",
    "        \"The ability of machine to learn from data without being explicitly programmed\"\n",
    "\n",
    "    Data.......>\n",
    "            MACHINE LEARNING......>RULES   \n",
    "    ANSWERS....>\n",
    "\n",
    "\n",
    "NEED OF MACHINE LEARNING\n",
    "    Lots of code to write bcz of many if else logics need to be created\n",
    "    so some method should be there to find the relation\n",
    "\n",
    "ML works best in tabular/numerical data\n",
    "but there is perception problem in ML\n"
   ]
  },
  {
   "cell_type": "markdown",
   "metadata": {},
   "source": [
    "# LEARNING TYPES"
   ]
  },
  {
   "cell_type": "raw",
   "metadata": {},
   "source": [
    "\n",
    "  Any source where some supervisor is making u understand the things,teacher,parents , internet ,book ,yt\n",
    "   \n",
    "     \"A TO B MAPPING\"\n",
    "label is also called annotation \n",
    "\n",
    "Human is telling about B output\n",
    "\n",
    "Grades : on telling about the marks \n",
    "    \n",
    "Regression:where there is some countinous data\n",
    "A to B mapping so supervised learning\n",
    "\n",
    "Machine gives the probablity not 100% aaccurate \n",
    "Supervised learning is mostly mature, so used extensively"
   ]
  },
  {
   "cell_type": "markdown",
   "metadata": {},
   "source": [
    "# REGRESSION MODEL"
   ]
  },
  {
   "cell_type": "raw",
   "metadata": {},
   "source": [
    "In statistical modeling, regression analysis is a set of statistical processes for estimating the relationships between a dependent variable (often called the 'outcome variable') and one or more independent variables (often called 'predictors', 'covariates', or 'features').\n",
    "\n",
    "Y= wX+ b \n",
    "\n",
    "The most common form of regression analysis is linear regression, in which a researcher finds the line (or a more complex linear combination) that most closely fits the data according to a specific mathematical criterion. For example, the method of ordinary least squares computes the unique line (or hyperplane) that minimizes the sum of squared distances between the true data and that line (or hyperplane)."
   ]
  },
  {
   "cell_type": "markdown",
   "metadata": {},
   "source": [
    "# UNSUPERVIESED LEARNING"
   ]
  },
  {
   "cell_type": "raw",
   "metadata": {},
   "source": [
    "   No supervisor , no label or output\n",
    "   only input is given \n",
    "   self learning , and managing input by our own algorithim , find similarities\n",
    "\n",
    "\n",
    "feature by ourselves , input given"
   ]
  },
  {
   "cell_type": "raw",
   "metadata": {},
   "source": [
    "two topics in unsupervised learning\n",
    "\n",
    "1.clustring /grouping\n",
    "2.dimensionality reduction\n",
    "\n",
    "\n",
    "Examples:\n",
    "    \n",
    "some youtube videos given\n",
    "\n",
    "\n",
    "seeing and then deciding what sort of film it was\n",
    "\n",
    "some transations data given , machine itself decides the prospects for different age groups"
   ]
  },
  {
   "cell_type": "markdown",
   "metadata": {},
   "source": [
    "# REINFORCEMENT LEARNING"
   ]
  },
  {
   "cell_type": "raw",
   "metadata": {},
   "source": [
    "3.REINFORCEMENT LEARNING\n",
    "......Agent\n",
    "......Environment\n",
    "......Action\n",
    "......Reward(positive or negative)\n",
    "\n",
    "input is taken from some enviroment (real or virtual)\n",
    "Agent: AI ka model train hua wa, taking input\n",
    "\n",
    "Examples: Driverless cars\n",
    "        "
   ]
  },
  {
   "cell_type": "markdown",
   "metadata": {},
   "source": [
    "# DEEP LEARNING"
   ]
  },
  {
   "cell_type": "raw",
   "metadata": {},
   "source": [
    "MULTISTAGE LEARNING\n",
    "......Neural Network(a single,specific algorithm) ANN...Artificial neural network\n",
    "......Feature Engineering Auto\n",
    "\n",
    "input output both given"
   ]
  },
  {
   "cell_type": "raw",
   "metadata": {},
   "source": [
    "BIG Data :\n",
    "    a single best machine of this era cant be handled\n",
    " \n",
    "Data Science :\n",
    "    uses all of above learning techniques\n",
    "    \n",
    "Data Mining:\n",
    "     pattern finding out of the data"
   ]
  },
  {
   "cell_type": "markdown",
   "metadata": {},
   "source": [
    "# SELF SUPERVISED LEARNING"
   ]
  },
  {
   "cell_type": "markdown",
   "metadata": {},
   "source": [
    " Machine temporarily gives output in correspondance to input given\n",
    " \n",
    "  Self-supervised learning  is a learning technique (in machine learning) where the training data is  automatically labelled. It is still supervised learning, but the datasets do not need to be manually labelled by a human.\n",
    " \n",
    " \n",
    " keras was build on top of tensorflow 1.0\n",
    " google launched tensorflow 2.0 which has in built keras"
   ]
  },
  {
   "cell_type": "markdown",
   "metadata": {},
   "source": [
    "# PROBABILISTIC MODELING\n"
   ]
  },
  {
   "cell_type": "raw",
   "metadata": {},
   "source": [
    "Application of principles of statistics to data analysis.\n",
    "It was one of the earliest forms of machine learning and still used today.\n",
    "One of the best algo is NAIVE BAYES ALGORITHM\n",
    "\n",
    "an algo of classification"
   ]
  },
  {
   "cell_type": "raw",
   "metadata": {},
   "source": [
    "First in 1950 , in the form of toy\n",
    "NEURAL NETWORK\n",
    "...input layer \n",
    "...hidden layer(densly connected layer)\n",
    "...output layer"
   ]
  },
  {
   "cell_type": "raw",
   "metadata": {},
   "source": [
    "wx + b..... line equation\n",
    "\n",
    "Activation function on each node of all layers \n",
    "useful data tranmitted to next layer\n",
    "useless data becomes zero is not trasmitted to next layer"
   ]
  },
  {
   "cell_type": "raw",
   "metadata": {},
   "source": [
    "intersection is bais...b\n",
    "of x and y axis"
   ]
  },
  {
   "cell_type": "markdown",
   "metadata": {},
   "source": [
    "# KERNAL METHODS"
   ]
  },
  {
   "cell_type": "raw",
   "metadata": {},
   "source": [
    "group of classification algorithms which support vector machine SVM\n",
    "input data is given\n",
    "data is divided into two portions\n",
    "a line hyper plane"
   ]
  },
  {
   "cell_type": "code",
   "execution_count": 5,
   "metadata": {},
   "outputs": [],
   "source": [
    "import numpy as np\n",
    "import pandas as pd\n",
    "import matplotlib.pyplot as plt"
   ]
  },
  {
   "cell_type": "raw",
   "metadata": {},
   "source": [
    "weight ,,,, height csv\n",
    "x=0\n",
    "b=0\n",
    "predict value - real value\n",
    "square\n",
    "mean\n",
    "root mean square value"
   ]
  },
  {
   "cell_type": "code",
   "execution_count": 30,
   "metadata": {},
   "outputs": [
    {
     "data": {
      "text/html": [
       "<div>\n",
       "<style scoped>\n",
       "    .dataframe tbody tr th:only-of-type {\n",
       "        vertical-align: middle;\n",
       "    }\n",
       "\n",
       "    .dataframe tbody tr th {\n",
       "        vertical-align: top;\n",
       "    }\n",
       "\n",
       "    .dataframe thead th {\n",
       "        text-align: right;\n",
       "    }\n",
       "</style>\n",
       "<table border=\"1\" class=\"dataframe\">\n",
       "  <thead>\n",
       "    <tr style=\"text-align: right;\">\n",
       "      <th></th>\n",
       "      <th>Gender</th>\n",
       "      <th>Height</th>\n",
       "      <th>Weight</th>\n",
       "    </tr>\n",
       "  </thead>\n",
       "  <tbody>\n",
       "    <tr>\n",
       "      <th>0</th>\n",
       "      <td>Male</td>\n",
       "      <td>73.847017</td>\n",
       "      <td>241.893563</td>\n",
       "    </tr>\n",
       "    <tr>\n",
       "      <th>1</th>\n",
       "      <td>Male</td>\n",
       "      <td>68.781904</td>\n",
       "      <td>162.310473</td>\n",
       "    </tr>\n",
       "    <tr>\n",
       "      <th>2</th>\n",
       "      <td>Male</td>\n",
       "      <td>74.110105</td>\n",
       "      <td>212.740856</td>\n",
       "    </tr>\n",
       "    <tr>\n",
       "      <th>3</th>\n",
       "      <td>Male</td>\n",
       "      <td>71.730978</td>\n",
       "      <td>220.042470</td>\n",
       "    </tr>\n",
       "    <tr>\n",
       "      <th>4</th>\n",
       "      <td>Male</td>\n",
       "      <td>69.881796</td>\n",
       "      <td>206.349801</td>\n",
       "    </tr>\n",
       "  </tbody>\n",
       "</table>\n",
       "</div>"
      ],
      "text/plain": [
       "  Gender     Height      Weight\n",
       "0   Male  73.847017  241.893563\n",
       "1   Male  68.781904  162.310473\n",
       "2   Male  74.110105  212.740856\n",
       "3   Male  71.730978  220.042470\n",
       "4   Male  69.881796  206.349801"
      ]
     },
     "execution_count": 30,
     "metadata": {},
     "output_type": "execute_result"
    }
   ],
   "source": [
    "df=pd.read_csv('height_weight.csv')          #reading csv data/ loading csv through pandas\n",
    "df.head(5)"
   ]
  },
  {
   "cell_type": "code",
   "execution_count": 29,
   "metadata": {},
   "outputs": [
    {
     "name": "stdout",
     "output_type": "stream",
     "text": [
      "[73.84701702 68.78190405 74.11010539 ... 63.86799221 69.03424313\n",
      " 61.94424588]\n"
     ]
    }
   ],
   "source": [
    "X=df[\"Height\"].values        #input, data\n",
    "y_true=df[\"Weight\"].values      #output, answer\n",
    "print(X)\n",
    "#print(y_true)"
   ]
  },
  {
   "cell_type": "code",
   "execution_count": 27,
   "metadata": {},
   "outputs": [],
   "source": [
    "#line equation      wx + b\n",
    "def line(x,w=0,b=0): \n",
    "    return w * x + b\n",
    "\n",
    "\n",
    "#loss function\n",
    "def mean_squared_error(y_true,y_pred):\n",
    "    s = (y_true - y_pred)**2   #abs( can also b taken)\n",
    "    return np.sqrt(s.mean())   #avearge error or loss has been found\n",
    "    "
   ]
  },
  {
   "cell_type": "code",
   "execution_count": 19,
   "metadata": {},
   "outputs": [
    {
     "data": {
      "text/plain": [
       "Text(0.5, 0, 'B')"
      ]
     },
     "execution_count": 19,
     "metadata": {},
     "output_type": "execute_result"
    },
    {
     "data": {
      "image/png": "[encoded data removed]",
      "text/plain": [
       "<Figure size 720x360 with 2 Axes>"
      ]
     },
     "metadata": {
      "needs_background": "light"
     },
     "output_type": "display_data"
    }
   ],
   "source": [
    "plt.figure(figsize=(10,5))  #10 height , 5 width\n",
    "ax1 = plt.subplot(121)#\n",
    "df.plot(kind='scatter',\n",
    "       x=\"Height\",\n",
    "        y=\"Weight\",\n",
    "        title=\"weight vs height \",\n",
    "        ax=ax1)\n",
    "bs = np.array([-100 , -50 , 0, 25 ,100 , 150])\n",
    "mses = []\n",
    "for b in bs:\n",
    "    y_pred = line(X,w=2,b=b) #adjust w and b for find best\n",
    "    mse=mean_squared_error(y_true,y_pred)\n",
    "    mses.append(mse)\n",
    "    plt.plot(X,y_pred)\n",
    " \n",
    "    \n",
    "ax2=plt.subplot(122)#1 row, 2 column,loss to be plotted at 2nd column \n",
    "plt.plot(bs,mses,'o-')\n",
    "plt.title('cost function')\n",
    "plt.xlabel(\"B\")"
   ]
  },
  {
   "cell_type": "markdown",
   "metadata": {},
   "source": [
    "# Find w and b value with Deep learning"
   ]
  },
  {
   "cell_type": "code",
   "execution_count": 20,
   "metadata": {},
   "outputs": [
    {
     "ename": "ModuleNotFoundError",
     "evalue": "No module named 'tensorflow'",
     "output_type": "error",
     "traceback": [
      "\u001b[1;31m---------------------------------------------------------------------------\u001b[0m",
      "\u001b[1;31mModuleNotFoundError\u001b[0m                       Traceback (most recent call last)",
      "\u001b[1;32m<ipython-input-20-e5a1261a615a>\u001b[0m in \u001b[0;36m<module>\u001b[1;34m\u001b[0m\n\u001b[1;32m----> 1\u001b[1;33m \u001b[1;32mfrom\u001b[0m \u001b[0mtensorflow\u001b[0m\u001b[1;33m.\u001b[0m\u001b[0mkeras\u001b[0m\u001b[1;33m.\u001b[0m\u001b[0mmodels\u001b[0m \u001b[1;32mimport\u001b[0m \u001b[0msequential\u001b[0m\u001b[1;33m\u001b[0m\u001b[1;33m\u001b[0m\u001b[0m\n\u001b[0m\u001b[0;32m      2\u001b[0m \u001b[1;32mfrom\u001b[0m \u001b[0mtensorflow\u001b[0m\u001b[1;33m.\u001b[0m\u001b[0mkeras\u001b[0m\u001b[1;33m.\u001b[0m\u001b[0mlayers\u001b[0m \u001b[1;32mimport\u001b[0m \u001b[0mDense\u001b[0m\u001b[1;33m\u001b[0m\u001b[1;33m\u001b[0m\u001b[0m\n\u001b[0;32m      3\u001b[0m \u001b[1;32mfrom\u001b[0m \u001b[0mtesnroflow\u001b[0m\u001b[1;33m.\u001b[0m\u001b[0mkeras\u001b[0m\u001b[1;33m.\u001b[0m\u001b[0moptimizers\u001b[0m \u001b[1;32mimport\u001b[0m \u001b[0mAdam\u001b[0m\u001b[1;33m,\u001b[0m\u001b[0mSGD\u001b[0m\u001b[1;33m\u001b[0m\u001b[1;33m\u001b[0m\u001b[0m\n\u001b[0;32m      4\u001b[0m \u001b[1;33m\u001b[0m\u001b[0m\n\u001b[0;32m      5\u001b[0m \u001b[0mget_ipython\u001b[0m\u001b[1;33m(\u001b[0m\u001b[1;33m)\u001b[0m\u001b[1;33m.\u001b[0m\u001b[0mrun_line_magic\u001b[0m\u001b[1;33m(\u001b[0m\u001b[1;34m'matplotlib'\u001b[0m\u001b[1;33m,\u001b[0m \u001b[1;34m'inline'\u001b[0m\u001b[1;33m)\u001b[0m\u001b[1;33m\u001b[0m\u001b[1;33m\u001b[0m\u001b[0m\n",
      "\u001b[1;31mModuleNotFoundError\u001b[0m: No module named 'tensorflow'"
     ]
    }
   ],
   "source": [
    "from tensorflow.keras.models import sequential\n",
    "from tensorflow.keras.layers import Dense\n",
    "from tesnsorflow.keras.optimizers import Adam,SGD\n",
    "\n",
    "%matplotlib inline\n",
    "import numpy as np\n",
    "import pandas as pd\n",
    "import matplotlib.pyplot as plt"
   ]
  },
  {
   "cell_type": "code",
   "execution_count": null,
   "metadata": {},
   "outputs": [],
   "source": [
    "print(X[:2])\n",
    "print(y_pred[:2])\n",
    "X.shape"
   ]
  },
  {
   "cell_type": "markdown",
   "metadata": {},
   "source": [
    "# MODEL"
   ]
  },
  {
   "cell_type": "code",
   "execution_count": null,
   "metadata": {},
   "outputs": [],
   "source": [
    "model = Sequential()\n",
    "\n",
    "#model structure \n",
    "model.add(Dense(1,input_shape=(1,)))"
   ]
  },
  {
   "cell_type": "code",
   "execution_count": null,
   "metadata": {},
   "outputs": [],
   "source": [
    "model.summary()"
   ]
  },
  {
   "cell_type": "code",
   "execution_count": null,
   "metadata": {},
   "outputs": [],
   "source": [
    "model.compile(Adam(lr=0.8),\"mean_squared_error\")\n",
    "model.fit(x,y_true,epochs=40)#model training      \n",
    "\n",
    "#epoch :iteration"
   ]
  },
  {
   "cell_type": "code",
   "execution_count": null,
   "metadata": {},
   "outputs": [],
   "source": [
    "y_pred = model.predict(X)\n",
    "y_pred"
   ]
  },
  {
   "cell_type": "code",
   "execution_count": null,
   "metadata": {},
   "outputs": [],
   "source": [
    "df.plot(kind=\"scatter\",\n",
    "       x=\"Height\",\n",
    "        y=\"Weight\",\n",
    "        title=\"Height vs Weight with DL\"\n",
    "       )\n",
    "\n",
    "plt.plot(X,y_pred,color='red',linewidth=3)"
   ]
  },
  {
   "cell_type": "code",
   "execution_count": null,
   "metadata": {},
   "outputs": [],
   "source": [
    "w , b = model.get_weights()\n",
    "print(w,b,sep=\"\\n\\n\")"
   ]
  },
  {
   "cell_type": "code",
   "execution_count": null,
   "metadata": {},
   "outputs": [],
   "source": [
    "model.predict([[200]])"
   ]
  },
  {
   "cell_type": "code",
   "execution_count": null,
   "metadata": {},
   "outputs": [],
   "source": [
    "call back function: gives feedback"
   ]
  },
  {
   "cell_type": "raw",
   "metadata": {},
   "source": [
    "UIT\n",
    "DEEP LEARNING \n",
    "chapter 1\n",
    "CLASS 1"
   ]
  }
 ],
 "metadata": {
  "kernelspec": {
   "display_name": "Python 3",
   "language": "python",
   "name": "python3"
  },
  "language_info": {
   "codemirror_mode": {
    "name": "ipython",
    "version": 3
   },
   "file_extension": ".py",
   "mimetype": "text/x-python",
   "name": "python",
   "nbconvert_exporter": "python",
   "pygments_lexer": "ipython3",
   "version": "3.7.3"
  }
 },
 "nbformat": 4,
 "nbformat_minor": 4
}
